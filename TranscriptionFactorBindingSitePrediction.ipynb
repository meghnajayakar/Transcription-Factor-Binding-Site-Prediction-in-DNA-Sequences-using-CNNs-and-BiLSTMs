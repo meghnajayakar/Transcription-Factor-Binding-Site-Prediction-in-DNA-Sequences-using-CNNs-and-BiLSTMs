{
  "cells": [
    {
      "cell_type": "code",
      "execution_count": 2,
      "metadata": {
        "id": "FcuJqtRGcfBH"
      },
      "outputs": [],
      "source": [
        "# Importing necessary libraries for this project\n",
        "import numpy as np\n",
        "import pandas as pd\n",
        "from sklearn.metrics import confusion_matrix, accuracy_score\n",
        "import tensorflow as tf\n",
        "from keras.models import Sequential, Model\n",
        "from keras.layers import Dense, Dropout, Activation, Flatten, Layer, Input\n",
        "from keras.layers import Conv1D, MaxPooling1D, LSTM, Bidirectional\n",
        "from keras.callbacks import ModelCheckpoint, EarlyStopping"
      ]
    },
    {
      "cell_type": "code",
      "source": [
        "# Importing the necessary library to mount Google Drive to the '/content/drive' directory in Colab\n",
        "from google.colab import drive\n",
        "drive.mount('/content/drive')"
      ],
      "metadata": {
        "colab": {
          "base_uri": "https://localhost:8080/"
        },
        "id": "ki0H3-p-5Hzz",
        "outputId": "03b82267-1feb-4119-99c3-5967e5e97fb4"
      },
      "execution_count": 3,
      "outputs": [
        {
          "output_type": "stream",
          "name": "stdout",
          "text": [
            "Mounted at /content/drive\n"
          ]
        }
      ]
    },
    {
      "cell_type": "code",
      "execution_count": 4,
      "metadata": {
        "id": "S_p_4FnHf5_H",
        "colab": {
          "base_uri": "https://localhost:8080/"
        },
        "outputId": "4a3b4c80-5b26-439d-c276-98ac144eb188"
      },
      "outputs": [
        {
          "output_type": "execute_result",
          "data": {
            "text/plain": [
              "array([[[0, 0, 0, 0],\n",
              "        [0, 0, 0, 0],\n",
              "        [0, 0, 0, 0],\n",
              "        ...,\n",
              "        [0, 1, 0, 0],\n",
              "        [0, 0, 1, 0],\n",
              "        [0, 0, 0, 1]],\n",
              "\n",
              "       [[0, 0, 0, 0],\n",
              "        [0, 0, 0, 0],\n",
              "        [0, 0, 0, 0],\n",
              "        ...,\n",
              "        [1, 0, 0, 0],\n",
              "        [0, 1, 0, 0],\n",
              "        [1, 0, 0, 0]],\n",
              "\n",
              "       [[0, 0, 0, 1],\n",
              "        [1, 0, 0, 0],\n",
              "        [1, 0, 0, 0],\n",
              "        ...,\n",
              "        [0, 0, 1, 0],\n",
              "        [0, 1, 0, 0],\n",
              "        [0, 0, 1, 0]],\n",
              "\n",
              "       ...,\n",
              "\n",
              "       [[0, 0, 1, 0],\n",
              "        [1, 0, 0, 0],\n",
              "        [1, 0, 0, 0],\n",
              "        ...,\n",
              "        [1, 0, 0, 0],\n",
              "        [0, 0, 0, 1],\n",
              "        [1, 0, 0, 0]],\n",
              "\n",
              "       [[0, 1, 0, 0],\n",
              "        [1, 0, 0, 0],\n",
              "        [0, 0, 1, 0],\n",
              "        ...,\n",
              "        [0, 0, 1, 0],\n",
              "        [0, 0, 0, 1],\n",
              "        [0, 0, 1, 0]],\n",
              "\n",
              "       [[0, 1, 0, 0],\n",
              "        [1, 0, 0, 0],\n",
              "        [0, 1, 0, 0],\n",
              "        ...,\n",
              "        [0, 1, 0, 0],\n",
              "        [0, 1, 0, 0],\n",
              "        [0, 1, 0, 0]]], dtype=uint8)"
            ]
          },
          "metadata": {},
          "execution_count": 4
        }
      ],
      "source": [
        "# Loading the training data from a .npy file (X_train.npy) stored in Google Drive\n",
        "xtrain = np.load('/content/drive/MyDrive/Projects/X_train.npy')\n",
        "\n",
        "# Displaying the loaded training data\n",
        "xtrain"
      ]
    },
    {
      "cell_type": "code",
      "execution_count": 5,
      "metadata": {
        "id": "2tcQI9NgfWMp",
        "colab": {
          "base_uri": "https://localhost:8080/"
        },
        "outputId": "54f78246-930d-4f2e-9734-76ecf145f67a"
      },
      "outputs": [
        {
          "output_type": "execute_result",
          "data": {
            "text/plain": [
              "array([[0, 0, 0, ..., 0, 0, 0],\n",
              "       [0, 0, 0, ..., 0, 0, 0],\n",
              "       [0, 0, 0, ..., 0, 0, 1],\n",
              "       ...,\n",
              "       [0, 0, 0, ..., 0, 0, 0],\n",
              "       [0, 0, 0, ..., 0, 0, 0],\n",
              "       [0, 0, 0, ..., 0, 0, 1]], dtype=uint8)"
            ]
          },
          "metadata": {},
          "execution_count": 5
        }
      ],
      "source": [
        "# Loading the training labels from a .npy file (y_train.npy) stored in Google Drive\n",
        "ytrain = np.load('/content/drive/MyDrive/Projects/y_train.npy')\n",
        "\n",
        "# Loading the training labels\n",
        "ytrain"
      ]
    },
    {
      "cell_type": "code",
      "execution_count": 6,
      "metadata": {
        "id": "nw4iCWKbgEXM",
        "colab": {
          "base_uri": "https://localhost:8080/"
        },
        "outputId": "1271aae1-94b5-4703-a572-d5f7f8b0e0fe"
      },
      "outputs": [
        {
          "output_type": "execute_result",
          "data": {
            "text/plain": [
              "array([[[1, 0, 0, 0],\n",
              "        [0, 0, 0, 1],\n",
              "        [0, 0, 1, 0],\n",
              "        ...,\n",
              "        [0, 0, 1, 0],\n",
              "        [0, 0, 0, 1],\n",
              "        [0, 0, 1, 0]],\n",
              "\n",
              "       [[0, 1, 0, 0],\n",
              "        [0, 0, 1, 0],\n",
              "        [0, 0, 0, 1],\n",
              "        ...,\n",
              "        [0, 0, 0, 1],\n",
              "        [0, 0, 0, 1],\n",
              "        [0, 1, 0, 0]],\n",
              "\n",
              "       [[0, 0, 1, 0],\n",
              "        [0, 1, 0, 0],\n",
              "        [0, 1, 0, 0],\n",
              "        ...,\n",
              "        [0, 1, 0, 0],\n",
              "        [1, 0, 0, 0],\n",
              "        [1, 0, 0, 0]],\n",
              "\n",
              "       ...,\n",
              "\n",
              "       [[1, 0, 0, 0],\n",
              "        [1, 0, 0, 0],\n",
              "        [0, 1, 0, 0],\n",
              "        ...,\n",
              "        [0, 0, 1, 0],\n",
              "        [1, 0, 0, 0],\n",
              "        [1, 0, 0, 0]],\n",
              "\n",
              "       [[0, 0, 1, 0],\n",
              "        [0, 0, 0, 1],\n",
              "        [0, 1, 0, 0],\n",
              "        ...,\n",
              "        [0, 1, 0, 0],\n",
              "        [0, 0, 0, 1],\n",
              "        [1, 0, 0, 0]],\n",
              "\n",
              "       [[1, 0, 0, 0],\n",
              "        [0, 0, 1, 0],\n",
              "        [0, 0, 0, 1],\n",
              "        ...,\n",
              "        [1, 0, 0, 0],\n",
              "        [0, 0, 1, 0],\n",
              "        [0, 0, 0, 1]]], dtype=uint8)"
            ]
          },
          "metadata": {},
          "execution_count": 6
        }
      ],
      "source": [
        "# Loading the testing data from a .npy file (X_test.npy) stored in Google Drive\n",
        "xtest = np.load('/content/drive/MyDrive/Projects/X_test.npy')\n",
        "\n",
        "# Displaying the loaded testing data\n",
        "xtest"
      ]
    },
    {
      "cell_type": "code",
      "execution_count": 7,
      "metadata": {
        "id": "ZM5KvvPZgnkM",
        "colab": {
          "base_uri": "https://localhost:8080/",
          "height": 158
        },
        "outputId": "8097b413-7759-4098-bf08-be5366f94462"
      },
      "outputs": [
        {
          "output_type": "execute_result",
          "data": {
            "text/plain": [
              "array([[0, 0, 0, ..., 0, 0, 0],\n",
              "       [0, 0, 0, ..., 0, 0, 0],\n",
              "       [0, 0, 0, ..., 0, 0, 0],\n",
              "       ...,\n",
              "       [0, 0, 0, ..., 0, 0, 0],\n",
              "       [0, 0, 0, ..., 0, 0, 0],\n",
              "       [0, 0, 0, ..., 0, 0, 0]], dtype=uint8)"
            ],
            "text/html": [
              "<style>\n",
              "      .ndarray_repr .ndarray_raw_data {\n",
              "        display: none;\n",
              "      }\n",
              "      .ndarray_repr.show_array .ndarray_raw_data {\n",
              "        display: block;\n",
              "      }\n",
              "      .ndarray_repr.show_array .ndarray_image_preview {\n",
              "        display: none;\n",
              "      }\n",
              "      </style>\n",
              "      <div id=\"id-9b24ec1f-b812-4797-8311-0a6b775fe2b6\" class=\"ndarray_repr\"><pre>ndarray (1000, 690) <button style=\"padding: 0 2px;\">show data</button></pre><img src=\"data:image/png;base64,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\" class=\"ndarray_image_preview\" /><pre class=\"ndarray_raw_data\">array([[0, 0, 0, ..., 0, 0, 0],\n",
              "       [0, 0, 0, ..., 0, 0, 0],\n",
              "       [0, 0, 0, ..., 0, 0, 0],\n",
              "       ...,\n",
              "       [0, 0, 0, ..., 0, 0, 0],\n",
              "       [0, 0, 0, ..., 0, 0, 0],\n",
              "       [0, 0, 0, ..., 0, 0, 0]], dtype=uint8)</pre></div><script>\n",
              "      (() => {\n",
              "      const titles = ['show data', 'hide data'];\n",
              "      let index = 0\n",
              "      document.querySelector('#id-9b24ec1f-b812-4797-8311-0a6b775fe2b6 button').onclick = (e) => {\n",
              "        document.querySelector('#id-9b24ec1f-b812-4797-8311-0a6b775fe2b6').classList.toggle('show_array');\n",
              "        index = (++index) % 2;\n",
              "        document.querySelector('#id-9b24ec1f-b812-4797-8311-0a6b775fe2b6 button').textContent = titles[index];\n",
              "        e.preventDefault();\n",
              "        e.stopPropagation();\n",
              "      }\n",
              "      })();\n",
              "    </script>"
            ]
          },
          "metadata": {},
          "execution_count": 7
        }
      ],
      "source": [
        "# Loading the testing labels from a .npy file (y_test.npy) stored in Google Drive\n",
        "ytest = np.load('/content/drive/MyDrive/Projects/y_test.npy')\n",
        "\n",
        "# Displaying the loaded testing labels\n",
        "ytest"
      ]
    },
    {
      "cell_type": "code",
      "execution_count": 8,
      "metadata": {
        "id": "PKdxUtdvgsE4",
        "colab": {
          "base_uri": "https://localhost:8080/"
        },
        "outputId": "05d5f317-3355-4e8f-a0ea-c84f8b5e1633"
      },
      "outputs": [
        {
          "output_type": "execute_result",
          "data": {
            "text/plain": [
              "((10000, 1000, 4), (1000, 1000, 4), (10000, 690), (1000, 690))"
            ]
          },
          "metadata": {},
          "execution_count": 8
        }
      ],
      "source": [
        "# Displaying the shapes of the training and testing datasets and labels\n",
        "xtrain.shape, xtest.shape, ytrain.shape, ytest.shape"
      ]
    },
    {
      "cell_type": "code",
      "execution_count": 9,
      "metadata": {
        "id": "m9Egl2YvgwQ6"
      },
      "outputs": [],
      "source": [
        "# Input layer defined with shape (1000, 4) as per the one-hot encoded matrix of the DNA Sequences\n",
        "input_data = Input(shape = (1000, 4))\n",
        "\n",
        "# Convolutional layer with 320 filters, kernel size 26 and Rectified Linear Unit (ReLU) activation\n",
        "output = Conv1D(filters = 320, kernel_size = 26, activation = 'relu')(input_data)\n",
        "\n",
        "# Max pooling layer\n",
        "output = MaxPooling1D()(output)\n",
        "\n",
        "# Dropout layer with dropout rate of 10%. Helps reduce overfitting\n",
        "output = Dropout(0.1)(output)\n",
        "\n",
        "# Bidirectional LSTM layer with 320 units, return_sequences parameter is True\n",
        "output = Bidirectional(LSTM(units = 320, return_sequences = True))(output)\n",
        "\n",
        "# Dropout layer with dropout rate of 50%. Helps reduce overfitting\n",
        "output = Dropout(0.5)(output)\n",
        "\n",
        "# Flatten layer\n",
        "flatten = Flatten()(output)\n",
        "\n",
        "# Fully connected dense layer with 695 unit and ReLU activation\n",
        "fully_connected = Dense(695)(flatten)\n",
        "fully_connected = Activation('relu')(fully_connected)\n",
        "\n",
        "# Output dense layer with 690 units and sigmoid activation as labels are either 1 or 0\n",
        "output = Dense(690)(fully_connected)\n",
        "output = Activation('sigmoid')(output)"
      ]
    },
    {
      "cell_type": "code",
      "execution_count": 10,
      "metadata": {
        "id": "IDDMiWQdh_Au"
      },
      "outputs": [],
      "source": [
        "# Defining the CNN-BiLSTM model with input and output layers\n",
        "model = Model(inputs = input_data, outputs = output)"
      ]
    },
    {
      "cell_type": "code",
      "execution_count": 11,
      "metadata": {
        "id": "ccshgWVniJ9m"
      },
      "outputs": [],
      "source": [
        "# Compiling the model with Adam optimizer and Binary Crossentropy as the loss function\n",
        "model.compile(optimizer = tf.keras.optimizers.Adam(), loss = tf.keras.losses.BinaryCrossentropy())"
      ]
    },
    {
      "cell_type": "code",
      "execution_count": 12,
      "metadata": {
        "id": "T1rcw6uWiXmL",
        "colab": {
          "base_uri": "https://localhost:8080/"
        },
        "outputId": "c4603b39-6d59-4a8b-9001-7677e41de451"
      },
      "outputs": [
        {
          "output_type": "stream",
          "name": "stdout",
          "text": [
            "Model: \"model\"\n",
            "_________________________________________________________________\n",
            " Layer (type)                Output Shape              Param #   \n",
            "=================================================================\n",
            " input_1 (InputLayer)        [(None, 1000, 4)]         0         \n",
            "                                                                 \n",
            " conv1d (Conv1D)             (None, 975, 320)          33600     \n",
            "                                                                 \n",
            " max_pooling1d (MaxPooling1  (None, 487, 320)          0         \n",
            " D)                                                              \n",
            "                                                                 \n",
            " dropout (Dropout)           (None, 487, 320)          0         \n",
            "                                                                 \n",
            " bidirectional (Bidirection  (None, 487, 640)          1640960   \n",
            " al)                                                             \n",
            "                                                                 \n",
            " dropout_1 (Dropout)         (None, 487, 640)          0         \n",
            "                                                                 \n",
            " flatten (Flatten)           (None, 311680)            0         \n",
            "                                                                 \n",
            " dense (Dense)               (None, 695)               216618295 \n",
            "                                                                 \n",
            " activation (Activation)     (None, 695)               0         \n",
            "                                                                 \n",
            " dense_1 (Dense)             (None, 690)               480240    \n",
            "                                                                 \n",
            " activation_1 (Activation)   (None, 690)               0         \n",
            "                                                                 \n",
            "=================================================================\n",
            "Total params: 218773095 (834.55 MB)\n",
            "Trainable params: 218773095 (834.55 MB)\n",
            "Non-trainable params: 0 (0.00 Byte)\n",
            "_________________________________________________________________\n"
          ]
        }
      ],
      "source": [
        "# Summary of Model Architecture\n",
        "model.summary()"
      ]
    },
    {
      "cell_type": "code",
      "execution_count": 13,
      "metadata": {
        "colab": {
          "base_uri": "https://localhost:8080/"
        },
        "id": "kCPAsosmiZhq",
        "outputId": "0e9ba9d1-c0ca-4d90-accd-f389a150c505"
      },
      "outputs": [
        {
          "output_type": "stream",
          "name": "stdout",
          "text": [
            "Epoch 1/5\n",
            "80/80 [==============================] - 34s 312ms/step - loss: 0.0881 - val_loss: 0.0607\n",
            "Epoch 2/5\n",
            "80/80 [==============================] - 25s 318ms/step - loss: 0.0611 - val_loss: 0.0576\n",
            "Epoch 3/5\n",
            "80/80 [==============================] - 25s 318ms/step - loss: 0.0592 - val_loss: 0.0590\n",
            "Epoch 4/5\n",
            "80/80 [==============================] - 26s 329ms/step - loss: 0.0584 - val_loss: 0.0622\n",
            "Epoch 5/5\n",
            "80/80 [==============================] - 26s 328ms/step - loss: 0.0566 - val_loss: 0.0622\n"
          ]
        }
      ],
      "source": [
        "# Training the Model on training data\n",
        "# xtrain, ytrain: input training data and target training labels respectively\n",
        "# batch_size: 100 samples per gradient update\n",
        "# epochs: trains the model for 5 epochs\n",
        "# verbose: progress bar\n",
        "# validation_split: portion of the training data used as validation data is 20%\n",
        "history = model.fit(xtrain, ytrain, batch_size = 100, epochs = 5, verbose = 1, validation_split = 0.2)"
      ]
    },
    {
      "cell_type": "code",
      "execution_count": 14,
      "metadata": {
        "id": "Pbr8sq0Ri2WG",
        "colab": {
          "base_uri": "https://localhost:8080/"
        },
        "outputId": "6ccdd0bf-db0e-4aaf-d29d-0238c5496af0"
      },
      "outputs": [
        {
          "output_type": "execute_result",
          "data": {
            "text/plain": [
              "0.0646833635866642"
            ]
          },
          "metadata": {},
          "execution_count": 14
        }
      ],
      "source": [
        "# Calculating the average training loss from training history\n",
        "np.mean(history.history['loss'])"
      ]
    },
    {
      "cell_type": "code",
      "source": [
        "# Calculating the average validation loss from training history\n",
        "np.mean(history.history['val_loss'])"
      ],
      "metadata": {
        "colab": {
          "base_uri": "https://localhost:8080/"
        },
        "id": "DNSJqBrgvNeY",
        "outputId": "a52f7109-74bd-46eb-8080-ac74d4b35a3b"
      },
      "execution_count": 15,
      "outputs": [
        {
          "output_type": "execute_result",
          "data": {
            "text/plain": [
              "0.06034699231386185"
            ]
          },
          "metadata": {},
          "execution_count": 15
        }
      ]
    },
    {
      "cell_type": "code",
      "source": [
        "# Evaluating Model's loss on testing data and labels\n",
        "loss = model.evaluate(xtest, ytest)"
      ],
      "metadata": {
        "colab": {
          "base_uri": "https://localhost:8080/"
        },
        "id": "s_km2pjY8XPn",
        "outputId": "7fa6d3bb-5846-4f83-c4fc-0556549d7166"
      },
      "execution_count": 16,
      "outputs": [
        {
          "output_type": "stream",
          "name": "stdout",
          "text": [
            "32/32 [==============================] - 2s 42ms/step - loss: 0.0343\n"
          ]
        }
      ]
    }
  ],
  "metadata": {
    "colab": {
      "provenance": [],
      "gpuType": "T4"
    },
    "kernelspec": {
      "display_name": "Python 3",
      "name": "python3"
    },
    "language_info": {
      "name": "python"
    },
    "accelerator": "GPU"
  },
  "nbformat": 4,
  "nbformat_minor": 0
}